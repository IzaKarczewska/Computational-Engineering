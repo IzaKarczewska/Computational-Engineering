{
 "cells": [
  {
   "cell_type": "markdown",
   "id": "58e855db-1b9b-493c-8c38-c7d9be5c0e82",
   "metadata": {},
   "source": [
    "# Algorytmy genetyczne - problem Komiwojażera"
   ]
  },
  {
   "cell_type": "markdown",
   "id": "9a8ef727-4181-463d-a15c-67c2eb5ed39c",
   "metadata": {},
   "source": [
    "### Import bibliotek"
   ]
  },
  {
   "cell_type": "code",
   "execution_count": 1,
   "id": "85bf9a21-f924-4c5a-acfa-296da2de3a55",
   "metadata": {},
   "outputs": [],
   "source": [
    "import numpy as np\n",
    "import pandas as pd\n",
    "import matplotlib.pyplot as plt\n",
    "import seaborn as sns\n",
    "import random\n",
    "from scipy.spatial import distance_matrix"
   ]
  },
  {
   "cell_type": "markdown",
   "id": "cf66c5c4-72f1-4275-b633-7858eb3177d8",
   "metadata": {},
   "source": [
    "### Funkcja generująca punkty"
   ]
  },
  {
   "cell_type": "code",
   "execution_count": 2,
   "id": "cd010a7f-c9da-42f7-bec5-c6d4804a5c54",
   "metadata": {},
   "outputs": [],
   "source": [
    "def generate_cities(n_cities, area_size):\n",
    "    return pd.DataFrame({\"X\": np.random.randint(area_size, size=n_cities), \"Y\": np.random.randint(area_size, size=n_cities)})"
   ]
  },
  {
   "cell_type": "code",
   "execution_count": 3,
   "id": "44d8f7b5-93ce-4e06-98fb-8636c296aa68",
   "metadata": {},
   "outputs": [
    {
     "data": {
      "text/plain": [
       "(0.0, 210.0)"
      ]
     },
     "execution_count": 3,
     "metadata": {},
     "output_type": "execute_result"
    },
    {
     "data": {
      "image/png": "[encoded data removed]",
      "text/plain": [
       "<Figure size 600x600 with 1 Axes>"
      ]
     },
     "metadata": {},
     "output_type": "display_data"
    }
   ],
   "source": [
    "cities = generate_cities(15, 200)\n",
    "plt.figure(figsize = (6,6))\n",
    "plt.scatter(cities.X, cities.Y, color=\"#9B2177\")\n",
    "plt.title('Lokalizacja wylosowanych \"miast\"', fontsize=15)\n",
    "plt.xlim(0,210)\n",
    "plt.ylim(0,210)"
   ]
  },
  {
   "cell_type": "markdown",
   "id": "737b6c03-f60e-4bbb-8939-e2d4047735f9",
   "metadata": {},
   "source": [
    "### Przedstawienie koordynatów"
   ]
  },
  {
   "cell_type": "code",
   "execution_count": 4,
   "id": "6cb71032-2129-431a-9aff-b8838094442a",
   "metadata": {},
   "outputs": [
    {
     "data": {
      "text/html": [
       "<div>\n",
       "<style scoped>\n",
       "    .dataframe tbody tr th:only-of-type {\n",
       "        vertical-align: middle;\n",
       "    }\n",
       "\n",
       "    .dataframe tbody tr th {\n",
       "        vertical-align: top;\n",
       "    }\n",
       "\n",
       "    .dataframe thead th {\n",
       "        text-align: right;\n",
       "    }\n",
       "</style>\n",
       "<table border=\"1\" class=\"dataframe\">\n",
       "  <thead>\n",
       "    <tr style=\"text-align: right;\">\n",
       "      <th></th>\n",
       "      <th>0</th>\n",
       "      <th>1</th>\n",
       "      <th>2</th>\n",
       "      <th>3</th>\n",
       "      <th>4</th>\n",
       "      <th>5</th>\n",
       "      <th>6</th>\n",
       "      <th>7</th>\n",
       "      <th>8</th>\n",
       "      <th>9</th>\n",
       "      <th>10</th>\n",
       "      <th>11</th>\n",
       "      <th>12</th>\n",
       "      <th>13</th>\n",
       "      <th>14</th>\n",
       "    </tr>\n",
       "  </thead>\n",
       "  <tbody>\n",
       "    <tr>\n",
       "      <th>X</th>\n",
       "      <td>175</td>\n",
       "      <td>123</td>\n",
       "      <td>83</td>\n",
       "      <td>2</td>\n",
       "      <td>78</td>\n",
       "      <td>90</td>\n",
       "      <td>47</td>\n",
       "      <td>88</td>\n",
       "      <td>154</td>\n",
       "      <td>129</td>\n",
       "      <td>149</td>\n",
       "      <td>140</td>\n",
       "      <td>83</td>\n",
       "      <td>67</td>\n",
       "      <td>23</td>\n",
       "    </tr>\n",
       "    <tr>\n",
       "      <th>Y</th>\n",
       "      <td>140</td>\n",
       "      <td>20</td>\n",
       "      <td>73</td>\n",
       "      <td>14</td>\n",
       "      <td>165</td>\n",
       "      <td>103</td>\n",
       "      <td>94</td>\n",
       "      <td>69</td>\n",
       "      <td>162</td>\n",
       "      <td>150</td>\n",
       "      <td>58</td>\n",
       "      <td>61</td>\n",
       "      <td>30</td>\n",
       "      <td>149</td>\n",
       "      <td>141</td>\n",
       "    </tr>\n",
       "  </tbody>\n",
       "</table>\n",
       "</div>"
      ],
      "text/plain": [
       "    0    1   2   3    4    5   6   7    8    9    10   11  12   13   14\n",
       "X  175  123  83   2   78   90  47  88  154  129  149  140  83   67   23\n",
       "Y  140   20  73  14  165  103  94  69  162  150   58   61  30  149  141"
      ]
     },
     "metadata": {},
     "output_type": "display_data"
    }
   ],
   "source": [
    "display(cities.T)"
   ]
  },
  {
   "cell_type": "markdown",
   "id": "257e9fa7-2cc1-4922-ac9e-30ecaaf5914d",
   "metadata": {},
   "source": [
    "### Macierz dystansu"
   ]
  },
  {
   "cell_type": "code",
   "execution_count": 5,
   "id": "3997a2c6-6adf-4cad-9e66-f868dd9860d1",
   "metadata": {},
   "outputs": [],
   "source": [
    "def distances(cities):\n",
    "    return pd.DataFrame(distance_matrix(cities.values, cities.values), index=cities.index, columns=cities.index)"
   ]
  },
  {
   "cell_type": "code",
   "execution_count": 58,
   "id": "9e7a0801-6b9e-4918-9e7b-7be8dfa6e889",
   "metadata": {},
   "outputs": [],
   "source": [
    "dist = distances(cities)"
   ]
  },
  {
   "cell_type": "markdown",
   "id": "2335239b-d371-4c89-8a5a-7baf86e66ce9",
   "metadata": {},
   "source": [
    "### Wybór populacji początkowej"
   ]
  },
  {
   "cell_type": "code",
   "execution_count": 7,
   "id": "d9512e78-5f64-449e-90ec-e2483f652487",
   "metadata": {},
   "outputs": [],
   "source": [
    "def genesis(cities, n_population):\n",
    "    n_cities = len(cities)\n",
    "    population_set = []\n",
    "    for i in range(n_population):\n",
    "        city = np.random.permutation(cities)\n",
    "        population_set.append(city)\n",
    "    population_df = pd.DataFrame(population_set, columns=['City_' + str(i) for i in range(1, n_cities + 1)])\n",
    "    return population_df"
   ]
  },
  {
   "cell_type": "code",
   "execution_count": 8,
   "id": "32696a41-2757-4881-9a10-f42a30ec8551",
   "metadata": {},
   "outputs": [
    {
     "data": {
      "text/html": [
       "<div>\n",
       "<style scoped>\n",
       "    .dataframe tbody tr th:only-of-type {\n",
       "        vertical-align: middle;\n",
       "    }\n",
       "\n",
       "    .dataframe tbody tr th {\n",
       "        vertical-align: top;\n",
       "    }\n",
       "\n",
       "    .dataframe thead th {\n",
       "        text-align: right;\n",
       "    }\n",
       "</style>\n",
       "<table border=\"1\" class=\"dataframe\">\n",
       "  <thead>\n",
       "    <tr style=\"text-align: right;\">\n",
       "      <th></th>\n",
       "      <th>City_1</th>\n",
       "      <th>City_2</th>\n",
       "      <th>City_3</th>\n",
       "      <th>City_4</th>\n",
       "      <th>City_5</th>\n",
       "      <th>City_6</th>\n",
       "      <th>City_7</th>\n",
       "      <th>City_8</th>\n",
       "      <th>City_9</th>\n",
       "      <th>City_10</th>\n",
       "      <th>City_11</th>\n",
       "      <th>City_12</th>\n",
       "      <th>City_13</th>\n",
       "      <th>City_14</th>\n",
       "      <th>City_15</th>\n",
       "    </tr>\n",
       "  </thead>\n",
       "  <tbody>\n",
       "    <tr>\n",
       "      <th>0</th>\n",
       "      <td>4</td>\n",
       "      <td>0</td>\n",
       "      <td>9</td>\n",
       "      <td>8</td>\n",
       "      <td>11</td>\n",
       "      <td>7</td>\n",
       "      <td>14</td>\n",
       "      <td>5</td>\n",
       "      <td>10</td>\n",
       "      <td>3</td>\n",
       "      <td>2</td>\n",
       "      <td>1</td>\n",
       "      <td>12</td>\n",
       "      <td>6</td>\n",
       "      <td>13</td>\n",
       "    </tr>\n",
       "    <tr>\n",
       "      <th>1</th>\n",
       "      <td>5</td>\n",
       "      <td>0</td>\n",
       "      <td>13</td>\n",
       "      <td>4</td>\n",
       "      <td>3</td>\n",
       "      <td>8</td>\n",
       "      <td>6</td>\n",
       "      <td>11</td>\n",
       "      <td>10</td>\n",
       "      <td>7</td>\n",
       "      <td>2</td>\n",
       "      <td>1</td>\n",
       "      <td>12</td>\n",
       "      <td>9</td>\n",
       "      <td>14</td>\n",
       "    </tr>\n",
       "    <tr>\n",
       "      <th>2</th>\n",
       "      <td>6</td>\n",
       "      <td>2</td>\n",
       "      <td>1</td>\n",
       "      <td>12</td>\n",
       "      <td>13</td>\n",
       "      <td>7</td>\n",
       "      <td>3</td>\n",
       "      <td>11</td>\n",
       "      <td>5</td>\n",
       "      <td>8</td>\n",
       "      <td>4</td>\n",
       "      <td>0</td>\n",
       "      <td>9</td>\n",
       "      <td>14</td>\n",
       "      <td>10</td>\n",
       "    </tr>\n",
       "    <tr>\n",
       "      <th>3</th>\n",
       "      <td>8</td>\n",
       "      <td>1</td>\n",
       "      <td>2</td>\n",
       "      <td>5</td>\n",
       "      <td>9</td>\n",
       "      <td>14</td>\n",
       "      <td>7</td>\n",
       "      <td>3</td>\n",
       "      <td>0</td>\n",
       "      <td>13</td>\n",
       "      <td>12</td>\n",
       "      <td>4</td>\n",
       "      <td>11</td>\n",
       "      <td>10</td>\n",
       "      <td>6</td>\n",
       "    </tr>\n",
       "    <tr>\n",
       "      <th>4</th>\n",
       "      <td>7</td>\n",
       "      <td>12</td>\n",
       "      <td>9</td>\n",
       "      <td>6</td>\n",
       "      <td>3</td>\n",
       "      <td>2</td>\n",
       "      <td>11</td>\n",
       "      <td>1</td>\n",
       "      <td>13</td>\n",
       "      <td>14</td>\n",
       "      <td>4</td>\n",
       "      <td>0</td>\n",
       "      <td>8</td>\n",
       "      <td>5</td>\n",
       "      <td>10</td>\n",
       "    </tr>\n",
       "    <tr>\n",
       "      <th>5</th>\n",
       "      <td>1</td>\n",
       "      <td>2</td>\n",
       "      <td>4</td>\n",
       "      <td>5</td>\n",
       "      <td>0</td>\n",
       "      <td>3</td>\n",
       "      <td>9</td>\n",
       "      <td>14</td>\n",
       "      <td>11</td>\n",
       "      <td>13</td>\n",
       "      <td>10</td>\n",
       "      <td>7</td>\n",
       "      <td>6</td>\n",
       "      <td>8</td>\n",
       "      <td>12</td>\n",
       "    </tr>\n",
       "    <tr>\n",
       "      <th>6</th>\n",
       "      <td>13</td>\n",
       "      <td>5</td>\n",
       "      <td>9</td>\n",
       "      <td>4</td>\n",
       "      <td>6</td>\n",
       "      <td>8</td>\n",
       "      <td>14</td>\n",
       "      <td>7</td>\n",
       "      <td>1</td>\n",
       "      <td>0</td>\n",
       "      <td>2</td>\n",
       "      <td>3</td>\n",
       "      <td>10</td>\n",
       "      <td>12</td>\n",
       "      <td>11</td>\n",
       "    </tr>\n",
       "    <tr>\n",
       "      <th>7</th>\n",
       "      <td>11</td>\n",
       "      <td>2</td>\n",
       "      <td>4</td>\n",
       "      <td>6</td>\n",
       "      <td>3</td>\n",
       "      <td>14</td>\n",
       "      <td>9</td>\n",
       "      <td>13</td>\n",
       "      <td>7</td>\n",
       "      <td>5</td>\n",
       "      <td>8</td>\n",
       "      <td>12</td>\n",
       "      <td>10</td>\n",
       "      <td>0</td>\n",
       "      <td>1</td>\n",
       "    </tr>\n",
       "    <tr>\n",
       "      <th>8</th>\n",
       "      <td>3</td>\n",
       "      <td>12</td>\n",
       "      <td>14</td>\n",
       "      <td>2</td>\n",
       "      <td>10</td>\n",
       "      <td>8</td>\n",
       "      <td>0</td>\n",
       "      <td>5</td>\n",
       "      <td>9</td>\n",
       "      <td>1</td>\n",
       "      <td>13</td>\n",
       "      <td>4</td>\n",
       "      <td>6</td>\n",
       "      <td>7</td>\n",
       "      <td>11</td>\n",
       "    </tr>\n",
       "    <tr>\n",
       "      <th>9</th>\n",
       "      <td>6</td>\n",
       "      <td>2</td>\n",
       "      <td>14</td>\n",
       "      <td>4</td>\n",
       "      <td>7</td>\n",
       "      <td>5</td>\n",
       "      <td>10</td>\n",
       "      <td>1</td>\n",
       "      <td>11</td>\n",
       "      <td>0</td>\n",
       "      <td>9</td>\n",
       "      <td>3</td>\n",
       "      <td>12</td>\n",
       "      <td>8</td>\n",
       "      <td>13</td>\n",
       "    </tr>\n",
       "    <tr>\n",
       "      <th>10</th>\n",
       "      <td>2</td>\n",
       "      <td>1</td>\n",
       "      <td>11</td>\n",
       "      <td>8</td>\n",
       "      <td>12</td>\n",
       "      <td>13</td>\n",
       "      <td>10</td>\n",
       "      <td>0</td>\n",
       "      <td>3</td>\n",
       "      <td>9</td>\n",
       "      <td>7</td>\n",
       "      <td>6</td>\n",
       "      <td>14</td>\n",
       "      <td>4</td>\n",
       "      <td>5</td>\n",
       "    </tr>\n",
       "    <tr>\n",
       "      <th>11</th>\n",
       "      <td>6</td>\n",
       "      <td>11</td>\n",
       "      <td>10</td>\n",
       "      <td>14</td>\n",
       "      <td>2</td>\n",
       "      <td>13</td>\n",
       "      <td>9</td>\n",
       "      <td>0</td>\n",
       "      <td>4</td>\n",
       "      <td>3</td>\n",
       "      <td>12</td>\n",
       "      <td>1</td>\n",
       "      <td>8</td>\n",
       "      <td>7</td>\n",
       "      <td>5</td>\n",
       "    </tr>\n",
       "    <tr>\n",
       "      <th>12</th>\n",
       "      <td>2</td>\n",
       "      <td>7</td>\n",
       "      <td>5</td>\n",
       "      <td>11</td>\n",
       "      <td>12</td>\n",
       "      <td>6</td>\n",
       "      <td>0</td>\n",
       "      <td>9</td>\n",
       "      <td>3</td>\n",
       "      <td>1</td>\n",
       "      <td>13</td>\n",
       "      <td>14</td>\n",
       "      <td>4</td>\n",
       "      <td>8</td>\n",
       "      <td>10</td>\n",
       "    </tr>\n",
       "    <tr>\n",
       "      <th>13</th>\n",
       "      <td>4</td>\n",
       "      <td>7</td>\n",
       "      <td>2</td>\n",
       "      <td>1</td>\n",
       "      <td>12</td>\n",
       "      <td>13</td>\n",
       "      <td>9</td>\n",
       "      <td>5</td>\n",
       "      <td>0</td>\n",
       "      <td>10</td>\n",
       "      <td>14</td>\n",
       "      <td>8</td>\n",
       "      <td>3</td>\n",
       "      <td>11</td>\n",
       "      <td>6</td>\n",
       "    </tr>\n",
       "    <tr>\n",
       "      <th>14</th>\n",
       "      <td>14</td>\n",
       "      <td>4</td>\n",
       "      <td>13</td>\n",
       "      <td>10</td>\n",
       "      <td>11</td>\n",
       "      <td>1</td>\n",
       "      <td>8</td>\n",
       "      <td>9</td>\n",
       "      <td>5</td>\n",
       "      <td>12</td>\n",
       "      <td>2</td>\n",
       "      <td>6</td>\n",
       "      <td>0</td>\n",
       "      <td>7</td>\n",
       "      <td>3</td>\n",
       "    </tr>\n",
       "  </tbody>\n",
       "</table>\n",
       "</div>"
      ],
      "text/plain": [
       "    City_1  City_2  City_3  City_4  City_5  City_6  City_7  City_8  City_9  \\\n",
       "0        4       0       9       8      11       7      14       5      10   \n",
       "1        5       0      13       4       3       8       6      11      10   \n",
       "2        6       2       1      12      13       7       3      11       5   \n",
       "3        8       1       2       5       9      14       7       3       0   \n",
       "4        7      12       9       6       3       2      11       1      13   \n",
       "5        1       2       4       5       0       3       9      14      11   \n",
       "6       13       5       9       4       6       8      14       7       1   \n",
       "7       11       2       4       6       3      14       9      13       7   \n",
       "8        3      12      14       2      10       8       0       5       9   \n",
       "9        6       2      14       4       7       5      10       1      11   \n",
       "10       2       1      11       8      12      13      10       0       3   \n",
       "11       6      11      10      14       2      13       9       0       4   \n",
       "12       2       7       5      11      12       6       0       9       3   \n",
       "13       4       7       2       1      12      13       9       5       0   \n",
       "14      14       4      13      10      11       1       8       9       5   \n",
       "\n",
       "    City_10  City_11  City_12  City_13  City_14  City_15  \n",
       "0         3        2        1       12        6       13  \n",
       "1         7        2        1       12        9       14  \n",
       "2         8        4        0        9       14       10  \n",
       "3        13       12        4       11       10        6  \n",
       "4        14        4        0        8        5       10  \n",
       "5        13       10        7        6        8       12  \n",
       "6         0        2        3       10       12       11  \n",
       "7         5        8       12       10        0        1  \n",
       "8         1       13        4        6        7       11  \n",
       "9         0        9        3       12        8       13  \n",
       "10        9        7        6       14        4        5  \n",
       "11        3       12        1        8        7        5  \n",
       "12        1       13       14        4        8       10  \n",
       "13       10       14        8        3       11        6  \n",
       "14       12        2        6        0        7        3  "
      ]
     },
     "metadata": {},
     "output_type": "display_data"
    }
   ],
   "source": [
    "population = genesis(cities.index, 15)\n",
    "display(population)"
   ]
  },
  {
   "cell_type": "markdown",
   "id": "e58a73d6-0957-4b6f-b6cd-9ef74672fa28",
   "metadata": {},
   "source": [
    "### Ocena populacjii"
   ]
  },
  {
   "cell_type": "code",
   "execution_count": 9,
   "id": "afa2a79d-0681-4b2c-b50f-7d41478de776",
   "metadata": {},
   "outputs": [],
   "source": [
    "def compute_fitness(population_df, distance_matrix):\n",
    "    fitness_values = []\n",
    "    for idx, solution in population_df.iterrows():\n",
    "        solution_distance = 0\n",
    "        for i in range(len(solution) - 1):\n",
    "            city1 = solution.iloc[i]\n",
    "            city2 = solution.iloc[i + 1]\n",
    "            solution_distance += distance_matrix.loc[city1, city2]\n",
    "        first_city = solution.iloc[0]\n",
    "        last_city = solution.iloc[len(solution) - 1]\n",
    "        solution_distance += distance_matrix.loc[last_city, first_city]\n",
    "        fitness_values.append(solution_distance)\n",
    "    return fitness_values"
   ]
  },
  {
   "cell_type": "code",
   "execution_count": 10,
   "id": "2904f66b-3213-4be2-9afc-1c3fe2bb4148",
   "metadata": {},
   "outputs": [
    {
     "data": {
      "text/plain": [
       "[1090.436140516851,\n",
       " 1324.5806631071496,\n",
       " 1341.034629410889,\n",
       " 1552.1589235070257,\n",
       " 1160.9393964687956,\n",
       " 1627.3370362775886,\n",
       " 1408.966758995272,\n",
       " 1303.341926107475,\n",
       " 1269.4992944152227,\n",
       " 1186.0768874807077,\n",
       " 1436.8660616866873,\n",
       " 1266.8713745906466,\n",
       " 1227.6144934205809,\n",
       " 1450.0757287441434,\n",
       " 1127.0691803869674]"
      ]
     },
     "metadata": {},
     "output_type": "display_data"
    }
   ],
   "source": [
    "fitness = compute_fitness(population, dist)\n",
    "display(fitness)"
   ]
  },
  {
   "cell_type": "markdown",
   "id": "3c517971-f2a8-4e4c-a588-5d60ea15162d",
   "metadata": {},
   "source": [
    "### Selekcja - metoda ruletki"
   ]
  },
  {
   "cell_type": "code",
   "execution_count": 11,
   "id": "dcaa9687-9ad4-4fb7-a8a2-615620dcd9ba",
   "metadata": {},
   "outputs": [],
   "source": [
    "def roulette_selection(fitness_list, population_df):\n",
    "    inverse_fitness_list = 1 / np.array(fitness_list)\n",
    "    total_fit = inverse_fitness_list.sum()\n",
    "    prob_list = inverse_fitness_list/total_fit\n",
    "    parents_indices = np.random.choice(list(range(len(population_df))), size=2, p=prob_list, replace=True)\n",
    "    return population_df.loc[parents_indices[0],:], population_df.loc[parents_indices[1],:]"
   ]
  },
  {
   "cell_type": "code",
   "execution_count": 57,
   "id": "ec373014-bd54-4a79-b2bc-9ef1257f2e31",
   "metadata": {},
   "outputs": [],
   "source": [
    "selected_1, selected_2 = roulette_selection(fitness, population)"
   ]
  },
  {
   "cell_type": "markdown",
   "id": "230d71b0-744e-4d5d-a79a-9fbba2a67c56",
   "metadata": {},
   "source": [
    "### Krzyżowanie"
   ]
  },
  {
   "cell_type": "code",
   "execution_count": 42,
   "id": "02a5979a-8f03-42c5-b0b7-62565575aea7",
   "metadata": {},
   "outputs": [],
   "source": [
    "def fix_duplicates(child, n_cities):\n",
    "    city_counts = child.value_counts()\n",
    "    duplicates = city_counts[city_counts > 1]\n",
    "    missing_cities = list(set(range(n_cities)) - set(child))\n",
    "    for duplicate in duplicates.index:\n",
    "        duplicate_indices = [i for i, x in enumerate(child) if x == duplicate]\n",
    "        for idx in duplicate_indices:\n",
    "            if missing_cities:\n",
    "                child.iloc[idx] = missing_cities.pop()\n",
    "    return child"
   ]
  },
  {
   "cell_type": "code",
   "execution_count": 45,
   "id": "b4526706-03df-4e4d-bffb-159f2a5de4b2",
   "metadata": {},
   "outputs": [],
   "source": [
    "def crossover(parent_a, parent_b, crossover_prob):\n",
    "    n_cities = len(parent_a)\n",
    "    if np.random.rand() < crossover_prob:\n",
    "        start_point = np.random.randint(0, n_cities - 1)\n",
    "        end_point = np.random.randint(start_point + 1, n_cities)\n",
    "        child_a = pd.concat([parent_a[:start_point],parent_b[start_point:end_point],parent_a[end_point:]])\n",
    "        child_b = pd.concat([parent_b[:start_point],parent_a[start_point:end_point],parent_b[end_point:]])\n",
    "        child_a = fix_duplicates(child_a, n_cities)\n",
    "        child_b = fix_duplicates(child_b, n_cities)\n",
    "    else:\n",
    "        child_a, child_b = parent_a, parent_b\n",
    "    return child_a, child_b"
   ]
  },
  {
   "cell_type": "code",
   "execution_count": 51,
   "id": "221a68bd-78d8-4838-b74d-4a41c8b14481",
   "metadata": {},
   "outputs": [
    {
     "name": "stdout",
     "output_type": "stream",
     "text": [
      "City_1      2\n",
      "City_2      1\n",
      "City_3     14\n",
      "City_4      8\n",
      "City_5     12\n",
      "City_6      9\n",
      "City_7     10\n",
      "City_8      0\n",
      "City_9      3\n",
      "City_10    13\n",
      "City_11    10\n",
      "City_12     7\n",
      "City_13     6\n",
      "City_14     4\n",
      "City_15     5\n",
      "dtype: int64\n"
     ]
    }
   ],
   "source": [
    "child_a, child_b = crossover(selected_1, selected_2, 0.8)\n",
    "print(child_a)"
   ]
  },
  {
   "cell_type": "markdown",
   "id": "277b1434-f6f2-440b-9eba-afd7454d4b94",
   "metadata": {},
   "source": [
    "### Mutacja"
   ]
  },
  {
   "cell_type": "code",
   "execution_count": 55,
   "id": "e6b373e8-2886-4151-be4a-ebf5425539c6",
   "metadata": {},
   "outputs": [],
   "source": [
    "def mutate(individ, mutation_prob = 0.8):\n",
    "    if np.random.rand() < mutation_prob:\n",
    "        n_cities = len(individ)\n",
    "        idx1, idx2 = np.random.choice(n_cities, 2, replace=False)\n",
    "        individ.iloc[idx1], individ.iloc[idx2] = individ.iloc[idx2], individ.iloc[idx1]\n",
    "    return individ"
   ]
  },
  {
   "cell_type": "code",
   "execution_count": 56,
   "id": "d45121b0-71fe-4fb5-aa80-1ee8a567e4ca",
   "metadata": {},
   "outputs": [],
   "source": [
    "child_a = mutate(child_a)\n",
    "child_b = mutate(child_b)"
   ]
  },
  {
   "cell_type": "markdown",
   "id": "2e32fdd0-9ca8-438d-a52e-3656b8d6b05d",
   "metadata": {},
   "source": [
    "### Generowanie nowej populacji"
   ]
  },
  {
   "cell_type": "code",
   "execution_count": 17,
   "id": "f2dca338-ab47-4a96-ad29-ccae89ad54ce",
   "metadata": {},
   "outputs": [],
   "source": [
    "def create_new_generation(current_population_df, fitness_values, crossover_prob, mutation_prob, selection_type='roulette'):\n",
    "    new_generation = []\n",
    "    if selection_type == 'roulette':\n",
    "        selected_population_df = roulette_selection(fitness_values, current_population_df)\n",
    "    elif selection_type == 'ranking':\n",
    "        selected_population_df = ranking_selection(fitness_values, current_population_df)\n",
    "    \n",
    "    for i in range(0, len(selected_population_df), 2):\n",
    "        parent_1 = selected_population_df.iloc[i].values[:-1]\n",
    "        parent_2 = selected_population_df.iloc[i + 1].values[:-1]\n",
    "        child_1, child_2 = order_crossover(parent_1, parent_2, crossover_prob)\n",
    "        child_1 = mutate(child_1, mutation_prob)\n",
    "        child_2 = mutate(child_2, mutation_prob)\n",
    "        new_generation.append(child_1)\n",
    "        new_generation.append(child_2)\n",
    "    \n",
    "    new_generation_df = pd.DataFrame(new_generation, columns=['City_' + str(i) for i in range(1, len(current_population_df.columns))])\n",
    "    return new_generation_df\n",
    "    "
   ]
  },
  {
   "cell_type": "markdown",
   "id": "9587efa2-7095-46a4-a745-8ea1f5de58d7",
   "metadata": {},
   "source": [
    "## Implementacja algorytmu genetycznego"
   ]
  },
  {
   "cell_type": "code",
   "execution_count": 18,
   "id": "ac75a349-288e-43cd-bbc6-1c58b208ae13",
   "metadata": {},
   "outputs": [],
   "source": [
    "def genetic_algorithm(num_cities, num_individuals, generations, mutation_rate, crossover_rate):\n",
    "    cities = generate_cities(num_cities, 200)\n",
    "    distance_mat = distances(cities)\n",
    "    population = genesis(cities, num_individuals)\n",
    "    \n",
    "    best_fitness_over_generations = []\n",
    "    avg_fitness_over_generations = []\n",
    "    median_fitness_over_generations = []\n",
    "    all_fitness_scores = []\n",
    "\n",
    "    for generation in range(generations):\n",
    "        fitness_values, population = compute_fitness(population, distance_mat)\n",
    "        best_fitness_over_generations.append(min(fitness_values))\n",
    "        avg_fitness_over_generations.append(np.mean(fitness_values))\n",
    "        median_fitness_over_generations.append(np.median(fitness_values))\n",
    "        all_fitness_scores.append(fitness_values)\n",
    "        \n",
    "        population = create_new_generation(population, distance_mat, crossover_rate, mutation_rate)\n",
    "    \n",
    "    best_idx = np.argmin(fitness_values)\n",
    "    best_individual = population.iloc[best_idx, :-1].values\n",
    "    best_distance = fitness_values[best_idx]\n",
    "    \n",
    "    return best_individual, best_distance, all_fitness_scores, best_fitness_over_generations, avg_fitness_over_generations, median_fitness_over_generations, cities"
   ]
  },
  {
   "cell_type": "markdown",
   "id": "4d020453-5d8f-488a-af9c-8acef2819639",
   "metadata": {},
   "source": [
    "### Najlepsza trasa w danym pokoleniu\n",
    "#### Funkcja do wizualizacji"
   ]
  },
  {
   "cell_type": "code",
   "execution_count": 19,
   "id": "1b933af5-d364-4ca1-a4aa-e672a2365c8e",
   "metadata": {},
   "outputs": [],
   "source": [
    "def best_route(population_df, cities_df):\n",
    "    index = population_df[\"Fitness\"].idxmin()\n",
    "    route = population_df.iloc[index, :-1].values\n",
    "    plt.figure(figsize=(6, 6))\n",
    "    plt.plot(cities_df.loc[route, \"X\"], cities_df.loc[route, \"Y\"], color=\"#efaffa\")\n",
    "    plt.scatter(cities_df[\"X\"], cities_df[\"Y\"], color=\"#8f00a8\")\n",
    "    plt.xlim(0, 210)\n",
    "    plt.ylim(0, 210)\n",
    "    plt.title(\"Najlepsza droga w obecnej populacji\")\n",
    "    plt.xlabel(\"X\")\n",
    "    plt.ylabel(\"Y\")\n",
    "    plt.grid(True)"
   ]
  },
  {
   "cell_type": "markdown",
   "id": "88fac5ef-9546-46b6-80ec-0fe0170bb6fa",
   "metadata": {},
   "source": [
    "### Funkcja wizualizująca poprawę jakości"
   ]
  },
  {
   "cell_type": "code",
   "execution_count": 20,
   "id": "2588529a-fc81-4cd6-99bb-ae3b5a507ead",
   "metadata": {},
   "outputs": [],
   "source": [
    "def plot_evolution(best_fitness, avg_fitness, median_fitness, generations):\n",
    "    plt.figure(figsize=(10, 6))\n",
    "    plt.plot(generations, best_fitness, 'bo-', label='Najlepszy wynik')\n",
    "    plt.plot(generations, avg_fitness, 'go-', label='Średnia')\n",
    "    plt.plot(generations, median_fitness, 'ro-', label='Mediana')\n",
    "    plt.fill_between(generations, median_fitness, color='red', alpha=0.1)\n",
    "    plt.xlabel('Pokolenia')\n",
    "    plt.ylabel('Wartość funkcji jakości')\n",
    "    plt.title('Ewolucja jakości w kolejnych pokoleniach')\n",
    "    plt.legend()\n",
    "    plt.grid(True)\n",
    "    plt.show()"
   ]
  },
  {
   "cell_type": "code",
   "execution_count": 21,
   "id": "1b1bbe41-cadb-4fbe-b978-947bc99dc313",
   "metadata": {},
   "outputs": [
    {
     "ename": "ValueError",
     "evalue": "Must pass 2-d input. shape=(50, 15, 2)",
     "output_type": "error",
     "traceback": [
      "\u001b[1;31m---------------------------------------------------------------------------\u001b[0m",
      "\u001b[1;31mValueError\u001b[0m                                Traceback (most recent call last)",
      "Cell \u001b[1;32mIn[21], line 1\u001b[0m\n\u001b[1;32m----> 1\u001b[0m best_individual, best_distance, all_fitness_scores, best_fitness_over_generations, avg_fitness_over_generations, median_fitness_over_generations, cities \u001b[38;5;241m=\u001b[39m \u001b[43mgenetic_algorithm\u001b[49m\u001b[43m(\u001b[49m\u001b[43mnum_cities\u001b[49m\u001b[38;5;241;43m=\u001b[39;49m\u001b[38;5;241;43m15\u001b[39;49m\u001b[43m,\u001b[49m\u001b[43m \u001b[49m\u001b[43mnum_individuals\u001b[49m\u001b[38;5;241;43m=\u001b[39;49m\u001b[38;5;241;43m50\u001b[39;49m\u001b[43m,\u001b[49m\u001b[43m \u001b[49m\u001b[43mgenerations\u001b[49m\u001b[38;5;241;43m=\u001b[39;49m\u001b[38;5;241;43m400\u001b[39;49m\u001b[43m,\u001b[49m\u001b[43m \u001b[49m\u001b[43mmutation_rate\u001b[49m\u001b[38;5;241;43m=\u001b[39;49m\u001b[38;5;241;43m0.01\u001b[39;49m\u001b[43m,\u001b[49m\u001b[43m \u001b[49m\u001b[43mcrossover_rate\u001b[49m\u001b[38;5;241;43m=\u001b[39;49m\u001b[38;5;241;43m0.9\u001b[39;49m\u001b[43m)\u001b[49m\n\u001b[0;32m      3\u001b[0m best_route(cities, best_individual)\n\u001b[0;32m      4\u001b[0m generations \u001b[38;5;241m=\u001b[39m \u001b[38;5;28mlist\u001b[39m(\u001b[38;5;28mrange\u001b[39m(\u001b[38;5;241m1\u001b[39m, \u001b[38;5;241m401\u001b[39m))\n",
      "Cell \u001b[1;32mIn[18], line 4\u001b[0m, in \u001b[0;36mgenetic_algorithm\u001b[1;34m(num_cities, num_individuals, generations, mutation_rate, crossover_rate)\u001b[0m\n\u001b[0;32m      2\u001b[0m cities \u001b[38;5;241m=\u001b[39m generate_cities(num_cities, \u001b[38;5;241m200\u001b[39m)\n\u001b[0;32m      3\u001b[0m distance_mat \u001b[38;5;241m=\u001b[39m distances(cities)\n\u001b[1;32m----> 4\u001b[0m population \u001b[38;5;241m=\u001b[39m \u001b[43mgenesis\u001b[49m\u001b[43m(\u001b[49m\u001b[43mcities\u001b[49m\u001b[43m,\u001b[49m\u001b[43m \u001b[49m\u001b[43mnum_individuals\u001b[49m\u001b[43m)\u001b[49m\n\u001b[0;32m      6\u001b[0m best_fitness_over_generations \u001b[38;5;241m=\u001b[39m []\n\u001b[0;32m      7\u001b[0m avg_fitness_over_generations \u001b[38;5;241m=\u001b[39m []\n",
      "Cell \u001b[1;32mIn[7], line 7\u001b[0m, in \u001b[0;36mgenesis\u001b[1;34m(cities, n_population)\u001b[0m\n\u001b[0;32m      5\u001b[0m     city \u001b[38;5;241m=\u001b[39m np\u001b[38;5;241m.\u001b[39mrandom\u001b[38;5;241m.\u001b[39mpermutation(cities)\n\u001b[0;32m      6\u001b[0m     population_set\u001b[38;5;241m.\u001b[39mappend(city)\n\u001b[1;32m----> 7\u001b[0m population_df \u001b[38;5;241m=\u001b[39m \u001b[43mpd\u001b[49m\u001b[38;5;241;43m.\u001b[39;49m\u001b[43mDataFrame\u001b[49m\u001b[43m(\u001b[49m\u001b[43mpopulation_set\u001b[49m\u001b[43m,\u001b[49m\u001b[43m \u001b[49m\u001b[43mcolumns\u001b[49m\u001b[38;5;241;43m=\u001b[39;49m\u001b[43m[\u001b[49m\u001b[38;5;124;43m'\u001b[39;49m\u001b[38;5;124;43mCity_\u001b[39;49m\u001b[38;5;124;43m'\u001b[39;49m\u001b[43m \u001b[49m\u001b[38;5;241;43m+\u001b[39;49m\u001b[43m \u001b[49m\u001b[38;5;28;43mstr\u001b[39;49m\u001b[43m(\u001b[49m\u001b[43mi\u001b[49m\u001b[43m)\u001b[49m\u001b[43m \u001b[49m\u001b[38;5;28;43;01mfor\u001b[39;49;00m\u001b[43m \u001b[49m\u001b[43mi\u001b[49m\u001b[43m \u001b[49m\u001b[38;5;129;43;01min\u001b[39;49;00m\u001b[43m \u001b[49m\u001b[38;5;28;43mrange\u001b[39;49m\u001b[43m(\u001b[49m\u001b[38;5;241;43m1\u001b[39;49m\u001b[43m,\u001b[49m\u001b[43m \u001b[49m\u001b[43mn_cities\u001b[49m\u001b[43m \u001b[49m\u001b[38;5;241;43m+\u001b[39;49m\u001b[43m \u001b[49m\u001b[38;5;241;43m1\u001b[39;49m\u001b[43m)\u001b[49m\u001b[43m]\u001b[49m\u001b[43m)\u001b[49m\n\u001b[0;32m      8\u001b[0m \u001b[38;5;28;01mreturn\u001b[39;00m population_df\n",
      "File \u001b[1;32m~\\AppData\\Local\\Programs\\Python\\Python310\\lib\\site-packages\\pandas\\core\\frame.py:825\u001b[0m, in \u001b[0;36mDataFrame.__init__\u001b[1;34m(self, data, index, columns, dtype, copy)\u001b[0m\n\u001b[0;32m    817\u001b[0m         mgr \u001b[38;5;241m=\u001b[39m arrays_to_mgr(\n\u001b[0;32m    818\u001b[0m             arrays,\n\u001b[0;32m    819\u001b[0m             columns,\n\u001b[1;32m   (...)\u001b[0m\n\u001b[0;32m    822\u001b[0m             typ\u001b[38;5;241m=\u001b[39mmanager,\n\u001b[0;32m    823\u001b[0m         )\n\u001b[0;32m    824\u001b[0m     \u001b[38;5;28;01melse\u001b[39;00m:\n\u001b[1;32m--> 825\u001b[0m         mgr \u001b[38;5;241m=\u001b[39m \u001b[43mndarray_to_mgr\u001b[49m\u001b[43m(\u001b[49m\n\u001b[0;32m    826\u001b[0m \u001b[43m            \u001b[49m\u001b[43mdata\u001b[49m\u001b[43m,\u001b[49m\n\u001b[0;32m    827\u001b[0m \u001b[43m            \u001b[49m\u001b[43mindex\u001b[49m\u001b[43m,\u001b[49m\n\u001b[0;32m    828\u001b[0m \u001b[43m            \u001b[49m\u001b[43mcolumns\u001b[49m\u001b[43m,\u001b[49m\n\u001b[0;32m    829\u001b[0m \u001b[43m            \u001b[49m\u001b[43mdtype\u001b[49m\u001b[38;5;241;43m=\u001b[39;49m\u001b[43mdtype\u001b[49m\u001b[43m,\u001b[49m\n\u001b[0;32m    830\u001b[0m \u001b[43m            \u001b[49m\u001b[43mcopy\u001b[49m\u001b[38;5;241;43m=\u001b[39;49m\u001b[43mcopy\u001b[49m\u001b[43m,\u001b[49m\n\u001b[0;32m    831\u001b[0m \u001b[43m            \u001b[49m\u001b[43mtyp\u001b[49m\u001b[38;5;241;43m=\u001b[39;49m\u001b[43mmanager\u001b[49m\u001b[43m,\u001b[49m\n\u001b[0;32m    832\u001b[0m \u001b[43m        \u001b[49m\u001b[43m)\u001b[49m\n\u001b[0;32m    833\u001b[0m \u001b[38;5;28;01melse\u001b[39;00m:\n\u001b[0;32m    834\u001b[0m     mgr \u001b[38;5;241m=\u001b[39m dict_to_mgr(\n\u001b[0;32m    835\u001b[0m         {},\n\u001b[0;32m    836\u001b[0m         index,\n\u001b[1;32m   (...)\u001b[0m\n\u001b[0;32m    839\u001b[0m         typ\u001b[38;5;241m=\u001b[39mmanager,\n\u001b[0;32m    840\u001b[0m     )\n",
      "File \u001b[1;32m~\\AppData\\Local\\Programs\\Python\\Python310\\lib\\site-packages\\pandas\\core\\internals\\construction.py:319\u001b[0m, in \u001b[0;36mndarray_to_mgr\u001b[1;34m(values, index, columns, dtype, copy, typ)\u001b[0m\n\u001b[0;32m    314\u001b[0m     values \u001b[38;5;241m=\u001b[39m _ensure_2d(values)\n\u001b[0;32m    316\u001b[0m \u001b[38;5;28;01melse\u001b[39;00m:\n\u001b[0;32m    317\u001b[0m     \u001b[38;5;66;03m# by definition an array here\u001b[39;00m\n\u001b[0;32m    318\u001b[0m     \u001b[38;5;66;03m# the dtypes will be coerced to a single dtype\u001b[39;00m\n\u001b[1;32m--> 319\u001b[0m     values \u001b[38;5;241m=\u001b[39m \u001b[43m_prep_ndarraylike\u001b[49m\u001b[43m(\u001b[49m\u001b[43mvalues\u001b[49m\u001b[43m,\u001b[49m\u001b[43m \u001b[49m\u001b[43mcopy\u001b[49m\u001b[38;5;241;43m=\u001b[39;49m\u001b[43mcopy_on_sanitize\u001b[49m\u001b[43m)\u001b[49m\n\u001b[0;32m    321\u001b[0m \u001b[38;5;28;01mif\u001b[39;00m dtype \u001b[38;5;129;01mis\u001b[39;00m \u001b[38;5;129;01mnot\u001b[39;00m \u001b[38;5;28;01mNone\u001b[39;00m \u001b[38;5;129;01mand\u001b[39;00m values\u001b[38;5;241m.\u001b[39mdtype \u001b[38;5;241m!=\u001b[39m dtype:\n\u001b[0;32m    322\u001b[0m     \u001b[38;5;66;03m# GH#40110 see similar check inside sanitize_array\u001b[39;00m\n\u001b[0;32m    323\u001b[0m     values \u001b[38;5;241m=\u001b[39m sanitize_array(\n\u001b[0;32m    324\u001b[0m         values,\n\u001b[0;32m    325\u001b[0m         \u001b[38;5;28;01mNone\u001b[39;00m,\n\u001b[1;32m   (...)\u001b[0m\n\u001b[0;32m    328\u001b[0m         allow_2d\u001b[38;5;241m=\u001b[39m\u001b[38;5;28;01mTrue\u001b[39;00m,\n\u001b[0;32m    329\u001b[0m     )\n",
      "File \u001b[1;32m~\\AppData\\Local\\Programs\\Python\\Python310\\lib\\site-packages\\pandas\\core\\internals\\construction.py:582\u001b[0m, in \u001b[0;36m_prep_ndarraylike\u001b[1;34m(values, copy)\u001b[0m\n\u001b[0;32m    579\u001b[0m \u001b[38;5;28;01melse\u001b[39;00m:\n\u001b[0;32m    580\u001b[0m     values \u001b[38;5;241m=\u001b[39m convert(values)\n\u001b[1;32m--> 582\u001b[0m \u001b[38;5;28;01mreturn\u001b[39;00m \u001b[43m_ensure_2d\u001b[49m\u001b[43m(\u001b[49m\u001b[43mvalues\u001b[49m\u001b[43m)\u001b[49m\n",
      "File \u001b[1;32m~\\AppData\\Local\\Programs\\Python\\Python310\\lib\\site-packages\\pandas\\core\\internals\\construction.py:592\u001b[0m, in \u001b[0;36m_ensure_2d\u001b[1;34m(values)\u001b[0m\n\u001b[0;32m    590\u001b[0m     values \u001b[38;5;241m=\u001b[39m values\u001b[38;5;241m.\u001b[39mreshape((values\u001b[38;5;241m.\u001b[39mshape[\u001b[38;5;241m0\u001b[39m], \u001b[38;5;241m1\u001b[39m))\n\u001b[0;32m    591\u001b[0m \u001b[38;5;28;01melif\u001b[39;00m values\u001b[38;5;241m.\u001b[39mndim \u001b[38;5;241m!=\u001b[39m \u001b[38;5;241m2\u001b[39m:\n\u001b[1;32m--> 592\u001b[0m     \u001b[38;5;28;01mraise\u001b[39;00m \u001b[38;5;167;01mValueError\u001b[39;00m(\u001b[38;5;124mf\u001b[39m\u001b[38;5;124m\"\u001b[39m\u001b[38;5;124mMust pass 2-d input. shape=\u001b[39m\u001b[38;5;132;01m{\u001b[39;00mvalues\u001b[38;5;241m.\u001b[39mshape\u001b[38;5;132;01m}\u001b[39;00m\u001b[38;5;124m\"\u001b[39m)\n\u001b[0;32m    593\u001b[0m \u001b[38;5;28;01mreturn\u001b[39;00m values\n",
      "\u001b[1;31mValueError\u001b[0m: Must pass 2-d input. shape=(50, 15, 2)"
     ]
    }
   ],
   "source": [
    "best_individual, best_distance, all_fitness_scores, best_fitness_over_generations, avg_fitness_over_generations, median_fitness_over_generations, cities = genetic_algorithm(num_cities=15, num_individuals=50, generations=400, mutation_rate=0.01, crossover_rate=0.9)\n",
    "\n",
    "best_route(cities, best_individual)\n",
    "generations = list(range(1, 401))\n",
    "plot_evolution(best_fitness_over_generations, avg_fitness_over_generations, median_fitness_over_generations, generations)\n",
    "\n",
    "print(f'Najlepsza znaleziona trasa ma długość: {best_distance}')"
   ]
  }
 ],
 "metadata": {
  "kernelspec": {
   "display_name": "Python 3 (ipykernel)",
   "language": "python",
   "name": "python3"
  },
  "language_info": {
   "codemirror_mode": {
    "name": "ipython",
    "version": 3
   },
   "file_extension": ".py",
   "mimetype": "text/x-python",
   "name": "python",
   "nbconvert_exporter": "python",
   "pygments_lexer": "ipython3",
   "version": "3.10.0rc2"
  }
 },
 "nbformat": 4,
 "nbformat_minor": 5
}
