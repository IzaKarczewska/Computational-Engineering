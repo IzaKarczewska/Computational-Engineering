{
 "cells": [
  {
   "cell_type": "markdown",
   "id": "58e855db-1b9b-493c-8c38-c7d9be5c0e82",
   "metadata": {},
   "source": [
    "# Algorytmy genetyczne - problem Komiwojażera"
   ]
  },
  {
   "cell_type": "markdown",
   "id": "9a8ef727-4181-463d-a15c-67c2eb5ed39c",
   "metadata": {},
   "source": [
    "### Import bibliotek"
   ]
  },
  {
   "cell_type": "code",
   "execution_count": 1,
   "id": "85bf9a21-f924-4c5a-acfa-296da2de3a55",
   "metadata": {},
   "outputs": [],
   "source": [
    "import numpy as np\n",
    "import pandas as pd\n",
    "import matplotlib.pyplot as plt\n",
    "import seaborn as sns\n",
    "import random\n",
    "from scipy.spatial import distance_matrix"
   ]
  },
  {
   "cell_type": "markdown",
   "id": "cf66c5c4-72f1-4275-b633-7858eb3177d8",
   "metadata": {},
   "source": [
    "### Funkcja generująca punkty"
   ]
  },
  {
   "cell_type": "code",
   "execution_count": 2,
   "id": "cd010a7f-c9da-42f7-bec5-c6d4804a5c54",
   "metadata": {},
   "outputs": [],
   "source": [
    "def generate_cities(n_cities, area_size):\n",
    "    return pd.DataFrame({\"X\": np.random.randint(area_size, size=n_cities), \"Y\": np.random.randint(area_size, size=n_cities)})"
   ]
  },
  {
   "cell_type": "code",
   "execution_count": 3,
   "id": "44d8f7b5-93ce-4e06-98fb-8636c296aa68",
   "metadata": {},
   "outputs": [
    {
     "data": {
      "text/plain": [
       "(-10.0, 210.0)"
      ]
     },
     "execution_count": 3,
     "metadata": {},
     "output_type": "execute_result"
    },
    {
     "data": {
      "image/png": "[encoded data removed]",
      "text/plain": [
       "<Figure size 600x600 with 1 Axes>"
      ]
     },
     "metadata": {},
     "output_type": "display_data"
    }
   ],
   "source": [
    "cities = generate_cities(15, 200)\n",
    "plt.figure(figsize = (6,6))\n",
    "plt.scatter(cities.X, cities.Y, color=\"#9B2177\")\n",
    "plt.title('Lokalizacja przykładowo wylosowanych \"miast\"', fontsize=15)\n",
    "plt.xlim(-10,210)\n",
    "plt.ylim(-10,210)"
   ]
  },
  {
   "cell_type": "markdown",
   "id": "737b6c03-f60e-4bbb-8939-e2d4047735f9",
   "metadata": {},
   "source": [
    "### Przedstawienie koordynatów"
   ]
  },
  {
   "cell_type": "code",
   "execution_count": 4,
   "id": "6cb71032-2129-431a-9aff-b8838094442a",
   "metadata": {},
   "outputs": [
    {
     "data": {
      "text/html": [
       "<div>\n",
       "<style scoped>\n",
       "    .dataframe tbody tr th:only-of-type {\n",
       "        vertical-align: middle;\n",
       "    }\n",
       "\n",
       "    .dataframe tbody tr th {\n",
       "        vertical-align: top;\n",
       "    }\n",
       "\n",
       "    .dataframe thead th {\n",
       "        text-align: right;\n",
       "    }\n",
       "</style>\n",
       "<table border=\"1\" class=\"dataframe\">\n",
       "  <thead>\n",
       "    <tr style=\"text-align: right;\">\n",
       "      <th></th>\n",
       "      <th>0</th>\n",
       "      <th>1</th>\n",
       "      <th>2</th>\n",
       "      <th>3</th>\n",
       "      <th>4</th>\n",
       "      <th>5</th>\n",
       "      <th>6</th>\n",
       "      <th>7</th>\n",
       "      <th>8</th>\n",
       "      <th>9</th>\n",
       "      <th>10</th>\n",
       "      <th>11</th>\n",
       "      <th>12</th>\n",
       "      <th>13</th>\n",
       "      <th>14</th>\n",
       "    </tr>\n",
       "  </thead>\n",
       "  <tbody>\n",
       "    <tr>\n",
       "      <th>X</th>\n",
       "      <td>24</td>\n",
       "      <td>61</td>\n",
       "      <td>196</td>\n",
       "      <td>138</td>\n",
       "      <td>184</td>\n",
       "      <td>24</td>\n",
       "      <td>94</td>\n",
       "      <td>162</td>\n",
       "      <td>75</td>\n",
       "      <td>117</td>\n",
       "      <td>40</td>\n",
       "      <td>165</td>\n",
       "      <td>74</td>\n",
       "      <td>104</td>\n",
       "      <td>188</td>\n",
       "    </tr>\n",
       "    <tr>\n",
       "      <th>Y</th>\n",
       "      <td>32</td>\n",
       "      <td>105</td>\n",
       "      <td>3</td>\n",
       "      <td>34</td>\n",
       "      <td>198</td>\n",
       "      <td>73</td>\n",
       "      <td>139</td>\n",
       "      <td>106</td>\n",
       "      <td>128</td>\n",
       "      <td>57</td>\n",
       "      <td>117</td>\n",
       "      <td>168</td>\n",
       "      <td>169</td>\n",
       "      <td>118</td>\n",
       "      <td>199</td>\n",
       "    </tr>\n",
       "  </tbody>\n",
       "</table>\n",
       "</div>"
      ],
      "text/plain": [
       "   0    1    2    3    4   5    6    7    8    9    10   11   12   13   14\n",
       "X  24   61  196  138  184  24   94  162   75  117   40  165   74  104  188\n",
       "Y  32  105    3   34  198  73  139  106  128   57  117  168  169  118  199"
      ]
     },
     "metadata": {},
     "output_type": "display_data"
    }
   ],
   "source": [
    "display(cities.T)"
   ]
  },
  {
   "cell_type": "markdown",
   "id": "257e9fa7-2cc1-4922-ac9e-30ecaaf5914d",
   "metadata": {},
   "source": [
    "### Macierz dystansu"
   ]
  },
  {
   "cell_type": "code",
   "execution_count": 5,
   "id": "3997a2c6-6adf-4cad-9e66-f868dd9860d1",
   "metadata": {},
   "outputs": [],
   "source": [
    "def distances(cities):\n",
    "    return pd.DataFrame(distance_matrix(cities.values, cities.values), index=cities.index, columns=cities.index)"
   ]
  },
  {
   "cell_type": "markdown",
   "id": "2335239b-d371-4c89-8a5a-7baf86e66ce9",
   "metadata": {},
   "source": [
    "### Wybór populacji początkowej"
   ]
  },
  {
   "cell_type": "code",
   "execution_count": 6,
   "id": "d9512e78-5f64-449e-90ec-e2483f652487",
   "metadata": {},
   "outputs": [],
   "source": [
    "def genesis(cities, num_individuals):\n",
    "    n_cities = len(cities)\n",
    "    population_set = []\n",
    "    for i in range(num_individuals):\n",
    "        city = np.random.permutation(list(range(1, n_cities)))\n",
    "        population_set.append(city)\n",
    "    population_df = pd.DataFrame(population_set, columns=['City_' + str(i) for i in range(1, n_cities)])\n",
    "    return population_df"
   ]
  },
  {
   "cell_type": "markdown",
   "id": "e58a73d6-0957-4b6f-b6cd-9ef74672fa28",
   "metadata": {},
   "source": [
    "### Ocena populacjii"
   ]
  },
  {
   "cell_type": "code",
   "execution_count": 7,
   "id": "afa2a79d-0681-4b2c-b50f-7d41478de776",
   "metadata": {},
   "outputs": [],
   "source": [
    "def compute_fitness(population_df, distance_matrix):\n",
    "    fitness_values = []\n",
    "    for idx, solution in population_df.iterrows():\n",
    "        solution_distance = 0\n",
    "        for i in range(len(solution) - 1):\n",
    "            city1 = solution.iloc[i]\n",
    "            city2 = solution.iloc[i + 1]\n",
    "            solution_distance += distance_matrix.loc[city1, city2]\n",
    "        first_city = solution.iloc[0]\n",
    "        last_city = solution.iloc[len(solution) - 1]\n",
    "        solution_distance += distance_matrix.loc[0, first_city]\n",
    "        solution_distance += distance_matrix.loc[last_city, 0]\n",
    "        fitness_values.append(solution_distance)\n",
    "    return fitness_values"
   ]
  },
  {
   "cell_type": "markdown",
   "id": "3c517971-f2a8-4e4c-a588-5d60ea15162d",
   "metadata": {},
   "source": [
    "### Selekcja - metoda ruletki"
   ]
  },
  {
   "cell_type": "code",
   "execution_count": 8,
   "id": "dcaa9687-9ad4-4fb7-a8a2-615620dcd9ba",
   "metadata": {},
   "outputs": [],
   "source": [
    "def roulette_selection(fitness_list, population_df):\n",
    "    inverse_fitness_list = 1 / np.array(fitness_list)\n",
    "    total_fit = inverse_fitness_list.sum()\n",
    "    prob_list = inverse_fitness_list/total_fit\n",
    "    parents_indices = np.random.choice(list(range(len(population_df))), size=2, p=prob_list, replace=True)\n",
    "    return population_df.loc[parents_indices[0],:], population_df.loc[parents_indices[1],:]"
   ]
  },
  {
   "cell_type": "markdown",
   "id": "b72549b1-c365-416e-a1f6-79f6f104960a",
   "metadata": {},
   "source": [
    "### Selekcja - metoda rankingowa"
   ]
  },
  {
   "cell_type": "code",
   "execution_count": 9,
   "id": "24714205-f3ca-47ee-8e7b-0c6eea608fde",
   "metadata": {},
   "outputs": [],
   "source": [
    "def ranking_selection(fitness_list, population_df):\n",
    "    min_indices = np.argsort(fitness_list)[:2]\n",
    "    selected_population = population_df.iloc[min_indices].copy()\n",
    "\n",
    "    return selected_population.iloc[0], selected_population.iloc[1]"
   ]
  },
  {
   "cell_type": "markdown",
   "id": "230d71b0-744e-4d5d-a79a-9fbba2a67c56",
   "metadata": {},
   "source": [
    "### Krzyżowanie"
   ]
  },
  {
   "cell_type": "code",
   "execution_count": 10,
   "id": "02a5979a-8f03-42c5-b0b7-62565575aea7",
   "metadata": {},
   "outputs": [],
   "source": [
    "def fix_duplicates(child, n_cities):\n",
    "    city_counts = child.value_counts()\n",
    "    duplicates = city_counts[city_counts > 1]\n",
    "    missing_cities = list(set(range(1,n_cities)) - set(child))\n",
    "    for duplicate in duplicates.index:\n",
    "        duplicate_indices = [i for i, x in enumerate(child) if x == duplicate]\n",
    "        for idx in duplicate_indices:\n",
    "            if missing_cities:\n",
    "                child.iloc[idx] = missing_cities.pop()\n",
    "    return child"
   ]
  },
  {
   "cell_type": "code",
   "execution_count": 11,
   "id": "b4526706-03df-4e4d-bffb-159f2a5de4b2",
   "metadata": {},
   "outputs": [],
   "source": [
    "def crossover(parent_a, parent_b, crossover_prob):\n",
    "    n_cities = len(parent_a)\n",
    "    if np.random.rand() < crossover_prob:\n",
    "        start_point = np.random.randint(0, n_cities - 1)\n",
    "        end_point = np.random.randint(start_point + 1, n_cities)\n",
    "        child_a = pd.concat([parent_a[:start_point],parent_b[start_point:end_point],parent_a[end_point:]])\n",
    "        child_b = pd.concat([parent_b[:start_point],parent_a[start_point:end_point],parent_b[end_point:]])\n",
    "        child_a = fix_duplicates(child_a, n_cities)\n",
    "        child_b = fix_duplicates(child_b, n_cities)\n",
    "    else:\n",
    "        child_a, child_b = parent_a, parent_b\n",
    "    return child_a, child_b"
   ]
  },
  {
   "cell_type": "markdown",
   "id": "277b1434-f6f2-440b-9eba-afd7454d4b94",
   "metadata": {},
   "source": [
    "### Mutacja"
   ]
  },
  {
   "cell_type": "code",
   "execution_count": 12,
   "id": "e6b373e8-2886-4151-be4a-ebf5425539c6",
   "metadata": {},
   "outputs": [],
   "source": [
    "def mutate(individ, mutation_prob = 0.8):\n",
    "    if np.random.rand() < mutation_prob:\n",
    "        n_cities = len(individ)\n",
    "        idx1, idx2 = np.random.choice(n_cities, 2, replace=False)\n",
    "        individ.iloc[idx1], individ.iloc[idx2] = individ.iloc[idx2], individ.iloc[idx1]\n",
    "    return individ"
   ]
  },
  {
   "cell_type": "markdown",
   "id": "2e32fdd0-9ca8-438d-a52e-3656b8d6b05d",
   "metadata": {},
   "source": [
    "### Generowanie nowej populacji"
   ]
  },
  {
   "cell_type": "code",
   "execution_count": 13,
   "id": "f2dca338-ab47-4a96-ad29-ccae89ad54ce",
   "metadata": {},
   "outputs": [],
   "source": [
    "def create_new_generation(current_population_df, fitness_values, num_individuals, crossover_prob, mutation_prob, selection_type='roulette'):\n",
    "    new_generation = []\n",
    "\n",
    "    while len(new_generation) < num_individuals:\n",
    "        if selection_type == 'roulette':\n",
    "            parent_1, parent_2 = roulette_selection(fitness_values, current_population_df)\n",
    "        elif selection_type == 'ranking':\n",
    "            parent_1, parent_2 = ranking_selection(fitness_values, current_population_df)\n",
    "\n",
    "        child_1, child_2 = crossover(parent_1, parent_2, crossover_prob)\n",
    "        child_1 = mutate(child_1, mutation_prob)\n",
    "        child_2 = mutate(child_2, mutation_prob)\n",
    "        new_generation.extend([child_1, child_2])\n",
    "    \n",
    "    new_generation_df = pd.DataFrame(new_generation, columns=current_population_df.columns).reset_index(drop=True)\n",
    "    return new_generation_df"
   ]
  },
  {
   "cell_type": "markdown",
   "id": "9587efa2-7095-46a4-a745-8ea1f5de58d7",
   "metadata": {},
   "source": [
    "## Implementacja algorytmu genetycznego"
   ]
  },
  {
   "cell_type": "code",
   "execution_count": 14,
   "id": "ac75a349-288e-43cd-bbc6-1c58b208ae13",
   "metadata": {},
   "outputs": [],
   "source": [
    "def genetic_algorithm(num_cities, num_individuals, generations, mutation_rate=0.02, crossover_rate=0.8, area_size=200):\n",
    "    cities = generate_cities(num_cities, area_size)\n",
    "    dist = distances(cities)\n",
    "    population = genesis(cities.index, num_individuals)\n",
    "    \n",
    "    best_fitness_over_generations = []\n",
    "    avg_fitness_over_generations = []\n",
    "    median_fitness_over_generations = []\n",
    "    all_fitness_scores = []\n",
    "\n",
    "    for generation in range(generations):\n",
    "        fitness = compute_fitness(population, dist)\n",
    "        best_fitness_over_generations.append(min(fitness))\n",
    "        avg_fitness_over_generations.append(np.mean(fitness))\n",
    "        median_fitness_over_generations.append(np.median(fitness))\n",
    "        all_fitness_scores.append(fitness)\n",
    "        population = create_new_generation(population, fitness, num_individuals, crossover_rate, mutation_rate)\n",
    "    best_idx = np.argmin(fitness)\n",
    "    best_individual = population.iloc[best_idx].values\n",
    "    best_distance = fitness[best_idx]\n",
    "    \n",
    "    return best_individual, best_distance, all_fitness_scores, best_fitness_over_generations, avg_fitness_over_generations, median_fitness_over_generations, cities"
   ]
  },
  {
   "cell_type": "markdown",
   "id": "4d020453-5d8f-488a-af9c-8acef2819639",
   "metadata": {},
   "source": [
    "### Najlepsza trasa w danym pokoleniu\n",
    "#### Funkcja do wizualizacji"
   ]
  },
  {
   "cell_type": "code",
   "execution_count": 15,
   "id": "1b933af5-d364-4ca1-a4aa-e672a2365c8e",
   "metadata": {},
   "outputs": [],
   "source": [
    "def best_route(best_individual, cities_df):\n",
    "    x = [cities.X.loc[i] for i in best_individual]\n",
    "    y = [cities.Y.loc[i] for i in best_individual]\n",
    "\n",
    "    x.insert(0,cities.X.loc[0])\n",
    "    y.insert(0,cities.Y.loc[0])\n",
    "\n",
    "    x.append(cities.X.loc[0])\n",
    "    y.append(cities.Y.loc[0])\n",
    "    \n",
    "    plt.figure(figsize=(6, 6))\n",
    "    plt.plot(x,y, color=\"#efaffa\")\n",
    "    plt.scatter(cities_df[\"X\"], cities_df[\"Y\"], color=\"#8f00a8\")\n",
    "    plt.xlim(0, 210)\n",
    "    plt.ylim(0, 210)\n",
    "    plt.title(\"Najlepsza wyznaczona trasa w generacji\")\n",
    "    plt.xlabel(\"X\")\n",
    "    plt.ylabel(\"Y\")\n",
    "    plt.grid(True)"
   ]
  },
  {
   "cell_type": "markdown",
   "id": "88fac5ef-9546-46b6-80ec-0fe0170bb6fa",
   "metadata": {},
   "source": [
    "### Funkcja wizualizująca poprawę jakości"
   ]
  },
  {
   "cell_type": "code",
   "execution_count": 16,
   "id": "2588529a-fc81-4cd6-99bb-ae3b5a507ead",
   "metadata": {},
   "outputs": [],
   "source": [
    "def plot_evolution(best_fitness, avg_fitness, median_fitness, generations):\n",
    "    plt.figure(figsize=(10, 6))\n",
    "    plt.plot(generations, best_fitness, 'bo-', label='Najlepszy wynik')\n",
    "    plt.plot(generations, avg_fitness, 'go-', label='Średnia')\n",
    "    plt.plot(generations, median_fitness, 'ro-', label='Mediana')\n",
    "    plt.fill_between(generations, median_fitness, color='red', alpha=0.1)\n",
    "    plt.xlabel('Pokolenia')\n",
    "    plt.ylabel('Wartość funkcji jakości')\n",
    "    plt.title('Ewolucja jakości w kolejnych pokoleniach')\n",
    "    plt.legend()\n",
    "    plt.grid(True)\n",
    "    plt.show()"
   ]
  },
  {
   "cell_type": "code",
   "execution_count": 17,
   "id": "1b1bbe41-cadb-4fbe-b978-947bc99dc313",
   "metadata": {},
   "outputs": [
    {
     "name": "stdout",
     "output_type": "stream",
     "text": [
      "[ 7  3  6 13  8  5  2 11 12  1  9 10  2  9]\n",
      "Najlepsza znaleziona trasa ma długość: 1008.3635415544394\n"
     ]
    },
    {
     "data": {
      "image/png": "[encoded data removed]",
      "text/plain": [
       "<Figure size 600x600 with 1 Axes>"
      ]
     },
     "metadata": {},
     "output_type": "display_data"
    }
   ],
   "source": [
    "best_individual, best_distance, all_fitness_scores, best_fitness_over_generations, avg_fitness_over_generations, median_fitness_over_generations, cities = genetic_algorithm(num_cities=15, num_individuals=50, generations=100, mutation_rate=0.01, crossover_rate=0.9)\n",
    "print(best_individual)\n",
    "best_route(best_individual, cities)\n",
    "#plot_evolution(best_fitness_over_generations, avg_fitness_over_generations, median_fitness_over_generations, generations=50)\n",
    "\n",
    "print(f'Najlepsza znaleziona trasa ma długość: {best_distance}')"
   ]
  }
 ],
 "metadata": {
  "kernelspec": {
   "display_name": "Python 3 (ipykernel)",
   "language": "python",
   "name": "python3"
  },
  "language_info": {
   "codemirror_mode": {
    "name": "ipython",
    "version": 3
   },
   "file_extension": ".py",
   "mimetype": "text/x-python",
   "name": "python",
   "nbconvert_exporter": "python",
   "pygments_lexer": "ipython3",
   "version": "3.10.0rc2"
  }
 },
 "nbformat": 4,
 "nbformat_minor": 5
}
